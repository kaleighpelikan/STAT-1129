{
  "nbformat": 4,
  "nbformat_minor": 0,
  "metadata": {
    "colab": {
      "provenance": [],
      "authorship_tag": "ABX9TyNG/6tIwkNhro9MkEVi5nYZ",
      "include_colab_link": true
    },
    "kernelspec": {
      "name": "python3",
      "display_name": "Python 3"
    },
    "language_info": {
      "name": "python"
    }
  },
  "cells": [
    {
      "cell_type": "markdown",
      "metadata": {
        "id": "view-in-github",
        "colab_type": "text"
      },
      "source": [
        "<a href=\"https://colab.research.google.com/github/kaleighpelikan/STAT-1129/blob/main/HW4_Kaleigh_Pelikan.ipynb\" target=\"_parent\"><img src=\"https://colab.research.google.com/assets/colab-badge.svg\" alt=\"Open In Colab\"/></a>"
      ]
    },
    {
      "cell_type": "markdown",
      "source": [
        "HW 4 Question 1 Part 1"
      ],
      "metadata": {
        "id": "E8YJuZa2dZjG"
      }
    },
    {
      "cell_type": "code",
      "execution_count": null,
      "metadata": {
        "colab": {
          "base_uri": "https://localhost:8080/"
        },
        "id": "oKRcO3ZnckWT",
        "outputId": "44a1636a-969e-4d73-8ff0-87b600ebebcb"
      },
      "outputs": [
        {
          "output_type": "execute_result",
          "data": {
            "text/plain": [
              "array([[ 1,  2,  3,  4],\n",
              "       [ 5,  6,  7,  8],\n",
              "       [ 9, 10, 11, 12]])"
            ]
          },
          "metadata": {},
          "execution_count": 3
        }
      ],
      "source": [
        "import numpy as np\n",
        "integers = np.array([[1,2,3,4], [5,6,7,8], [9,10,11,12]])\n",
        "integers"
      ]
    },
    {
      "cell_type": "code",
      "source": [
        "integers * 2"
      ],
      "metadata": {
        "colab": {
          "base_uri": "https://localhost:8080/"
        },
        "id": "U0C6fFaUdS77",
        "outputId": "94626678-d4ba-497a-80fe-f5a92d672e17"
      },
      "execution_count": null,
      "outputs": [
        {
          "output_type": "execute_result",
          "data": {
            "text/plain": [
              "array([[ 2,  4,  6,  8],\n",
              "       [10, 12, 14, 16],\n",
              "       [18, 20, 22, 24]])"
            ]
          },
          "metadata": {},
          "execution_count": 4
        }
      ]
    },
    {
      "cell_type": "code",
      "source": [
        "integers.ndim"
      ],
      "metadata": {
        "colab": {
          "base_uri": "https://localhost:8080/"
        },
        "id": "UuBB9GqNdV5P",
        "outputId": "dfed0110-b117-491a-feb9-cf26c8d6d0de"
      },
      "execution_count": null,
      "outputs": [
        {
          "output_type": "execute_result",
          "data": {
            "text/plain": [
              "2"
            ]
          },
          "metadata": {},
          "execution_count": 5
        }
      ]
    },
    {
      "cell_type": "code",
      "source": [
        "integers.shape"
      ],
      "metadata": {
        "colab": {
          "base_uri": "https://localhost:8080/"
        },
        "id": "t7O_we0mdXR1",
        "outputId": "c77d8376-7a2f-42a6-965b-febb0d9c9312"
      },
      "execution_count": null,
      "outputs": [
        {
          "output_type": "execute_result",
          "data": {
            "text/plain": [
              "(3, 4)"
            ]
          },
          "metadata": {},
          "execution_count": 6
        }
      ]
    },
    {
      "cell_type": "markdown",
      "source": [
        "HW 4 Question 1 Part 2"
      ],
      "metadata": {
        "id": "6t0eeIZ9t5ZL"
      }
    },
    {
      "cell_type": "code",
      "source": [
        "for row in integers:\n",
        "  for column in row:\n",
        "    print(column, end = ' ')\n",
        "  print()"
      ],
      "metadata": {
        "colab": {
          "base_uri": "https://localhost:8080/"
        },
        "id": "ehtwno0htp8I",
        "outputId": "f10c1a6d-0f87-44c7-93ce-607cfca8d061"
      },
      "execution_count": null,
      "outputs": [
        {
          "output_type": "stream",
          "name": "stdout",
          "text": [
            "1 2 3 4 \n",
            "5 6 7 8 \n",
            "9 10 11 12 \n"
          ]
        }
      ]
    },
    {
      "cell_type": "code",
      "source": [
        "for i in integers.flat:\n",
        "  print(i, end = ' ')"
      ],
      "metadata": {
        "colab": {
          "base_uri": "https://localhost:8080/"
        },
        "id": "PL9XC8klev69",
        "outputId": "6e1ce6d4-1fb0-41a6-9e8e-403d12ab2ba9"
      },
      "execution_count": null,
      "outputs": [
        {
          "output_type": "stream",
          "name": "stdout",
          "text": [
            "1 2 3 4 5 6 7 8 9 10 11 12 "
          ]
        }
      ]
    },
    {
      "cell_type": "markdown",
      "source": [
        "HW 4 Question 2"
      ],
      "metadata": {
        "id": "5vVzs56vfKwY"
      }
    },
    {
      "cell_type": "code",
      "source": [
        "import matplotlib.pyplot as plt\n",
        "import numpy as np\n",
        "\n",
        "xpoints = np.array([1, 6])\n",
        "ypoints = np.array([5,10])\n",
        "plt.plot(xpoints, ypoints)\n",
        "plt.show()"
      ],
      "metadata": {
        "colab": {
          "base_uri": "https://localhost:8080/",
          "height": 265
        },
        "id": "JuqXIwV8fL3c",
        "outputId": "40ad7a8e-13b6-4301-b2eb-21485abdc909"
      },
      "execution_count": null,
      "outputs": [
        {
          "output_type": "display_data",
          "data": {
            "text/plain": [
              "<Figure size 432x288 with 1 Axes>"
            ],
            "image/png": "[encoded data removed]"
          },
          "metadata": {
            "needs_background": "light"
          }
        }
      ]
    },
    {
      "cell_type": "code",
      "source": [
        "import matplotlib.pyplot as plt\n",
        "import numpy as np\n",
        "\n",
        "xpoints = np.array([3,6,9,12])\n",
        "ypoints = np.array([2,8,1,10])\n",
        "plt.plot(xpoints, ypoints, marker = '*')\n",
        "plt.show()"
      ],
      "metadata": {
        "colab": {
          "base_uri": "https://localhost:8080/",
          "height": 265
        },
        "id": "GB9CGAZ8h4Ws",
        "outputId": "6f244515-2016-4c4d-e72f-5266167e5db3"
      },
      "execution_count": null,
      "outputs": [
        {
          "output_type": "display_data",
          "data": {
            "text/plain": [
              "<Figure size 432x288 with 1 Axes>"
            ],
            "image/png": "[encoded data removed]"
          },
          "metadata": {
            "needs_background": "light"
          }
        }
      ]
    },
    {
      "cell_type": "markdown",
      "source": [
        "HW 4 Question 3"
      ],
      "metadata": {
        "id": "xT3xtKstiNFB"
      }
    },
    {
      "cell_type": "code",
      "source": [
        "import matplotlib.pyplot as plt\n",
        "import numpy as np\n",
        "\n",
        "xpoints = np.array([0,1,2,3,4,5])\n",
        "ypoints = np.array([2,4,6,14,10,12])\n",
        "plt.plot(xpoints, ypoints, 's:r', ms = 10, mfc = \"green\", mec = \"green\")\n",
        "plt.show()"
      ],
      "metadata": {
        "colab": {
          "base_uri": "https://localhost:8080/",
          "height": 265
        },
        "id": "PvjK533oiOVP",
        "outputId": "b9903ac5-39be-40c1-9380-0b324c422d5e"
      },
      "execution_count": null,
      "outputs": [
        {
          "output_type": "display_data",
          "data": {
            "text/plain": [
              "<Figure size 432x288 with 1 Axes>"
            ],
            "image/png": "[encoded data removed]"
          },
          "metadata": {
            "needs_background": "light"
          }
        }
      ]
    },
    {
      "cell_type": "markdown",
      "source": [
        "HW 4 Question 4"
      ],
      "metadata": {
        "id": "JYHf9USoi8pv"
      }
    },
    {
      "cell_type": "code",
      "source": [
        "import matplotlib.pyplot as plt\n",
        "import numpy as numpy\n",
        "\n",
        "ypoints = np.array([9,10,11,12])\n",
        "ypoints2 = np.array([5,6,7,8])\n",
        "ypoints3 = np.array([1,2,3,4])\n",
        "\n",
        "plt.plot(ypoints, color = \"green\")\n",
        "plt.plot(ypoints2, color = \"orange\")\n",
        "plt.plot(ypoints3, color = \"blue\")\n",
        "\n",
        "plt.xlabel(\"X Label\")\n",
        "plt.ylabel(\"Y Label\")\n",
        "\n",
        "plt.show()"
      ],
      "metadata": {
        "colab": {
          "base_uri": "https://localhost:8080/",
          "height": 279
        },
        "id": "EPF0ZxFBi94G",
        "outputId": "b8424a80-41bc-4565-945f-6fb2b182ab6e"
      },
      "execution_count": null,
      "outputs": [
        {
          "output_type": "display_data",
          "data": {
            "text/plain": [
              "<Figure size 432x288 with 1 Axes>"
            ],
            "image/png": "[encoded data removed]"
          },
          "metadata": {
            "needs_background": "light"
          }
        }
      ]
    },
    {
      "cell_type": "markdown",
      "source": [
        "HW 4 Question 5"
      ],
      "metadata": {
        "id": "20djBA_5kIMF"
      }
    },
    {
      "cell_type": "code",
      "source": [
        "marks = {\"Andy\" : 88, \"Amy\" : 66, \"James\" : 90, \"Jules\" : 55, \"Arthur\" : 77}\n",
        "for key in marks: \n",
        "  print(marks[key])"
      ],
      "metadata": {
        "colab": {
          "base_uri": "https://localhost:8080/"
        },
        "id": "tV3sfq0yuSwV",
        "outputId": "c7cc17e2-45da-47ab-aeda-7f9289e895ee"
      },
      "execution_count": 9,
      "outputs": [
        {
          "output_type": "stream",
          "name": "stdout",
          "text": [
            "88\n",
            "66\n",
            "90\n",
            "55\n",
            "77\n"
          ]
        }
      ]
    },
    {
      "cell_type": "code",
      "source": [
        "import matplotlib.pyplot as plt\n",
        "import numpy as np\n",
        "\n",
        "x = np.array([\"Andy\", \"Amy\", \"James\", \"Jules\", \"Arthur\"])\n",
        "y = np.array([88,66,90,55,77])\n",
        "plt.bar(x,y)\n",
        "plt.title(\"Student Grades\")\n",
        "plt.xlabel(\"Student Name\")\n",
        "plt.ylabel(\"Grade\")\n",
        "plt.show()"
      ],
      "metadata": {
        "colab": {
          "base_uri": "https://localhost:8080/",
          "height": 295
        },
        "id": "zgC4TBrlv-R0",
        "outputId": "1fc77a11-6fff-4050-ad62-a208c9e620f2"
      },
      "execution_count": null,
      "outputs": [
        {
          "output_type": "display_data",
          "data": {
            "text/plain": [
              "<Figure size 432x288 with 1 Axes>"
            ],
            "image/png": "[encoded data removed]"
          },
          "metadata": {
            "needs_background": "light"
          }
        }
      ]
    },
    {
      "cell_type": "code",
      "source": [
        "import matplotlib.pyplot as plt\n",
        "import numpy as np\n",
        "\n",
        "y = np.array([88,66,90,55,77])\n",
        "mylabels = [\"Andy\", \"Amy\", \"James\", \"Jules\", \"Arthur\"]\n",
        "plt.pie(y, labels = mylabels)\n",
        "plt.title(\"Student Grades\")\n",
        "plt.legend(bbox_to_anchor = (1.05,1.0), loc = \"upper left\")\n",
        "plt.show()"
      ],
      "metadata": {
        "colab": {
          "base_uri": "https://localhost:8080/",
          "height": 264
        },
        "id": "wU4teIrOwnYB",
        "outputId": "a0cf0ea6-0763-4a1e-c396-53cbcd194055"
      },
      "execution_count": null,
      "outputs": [
        {
          "output_type": "display_data",
          "data": {
            "text/plain": [
              "<Figure size 432x288 with 1 Axes>"
            ],
            "image/png": "[encoded data removed]"
          },
          "metadata": {}
        }
      ]
    },
    {
      "cell_type": "markdown",
      "source": [
        "HW 4 Question 6"
      ],
      "metadata": {
        "id": "QtFzPmu2ljUj"
      }
    },
    {
      "cell_type": "code",
      "source": [
        "import matplotlib.pyplot as plt\n",
        "import numpy as np\n",
        "\n",
        "xpoints = np.array([2,4,7,6])\n",
        "ypoints = np.array([5,12,1,5])\n",
        "\n",
        "xpoints2 = np.array([4,2,1,5])\n",
        "ypoints2 = np.array([7,11,2,4])\n",
        "\n",
        "plt.subplot(2,3,1)\n",
        "plt.plot(xpoints, ypoints)\n",
        "plt.plot(xpoints2, ypoints2)\n",
        "plt.title(\"Multiple Lines\")\n",
        "\n",
        "x = np.array([\"A\", \"B\", \"C\", \"D\"])\n",
        "y = np.array([2,5,6,12])\n",
        "\n",
        "plt.subplot(2,3,2)\n",
        "plt.bar(x,y)\n",
        "plt.title(\"Bar Chart\")\n",
        "\n",
        "y = np.array([22,33,44,55])\n",
        "\n",
        "plt.subplot(2,3,3)\n",
        "plt.pie(y)\n",
        "plt.title(\"Pie Chart\")\n",
        "\n",
        "ypoints = np.array([3,2,22,11,15,6])\n",
        "\n",
        "plt.subplot(2,3,4)\n",
        "plt.plot(ypoints)\n",
        "plt.grid()\n",
        "plt.title(\"Grid Lines\")\n",
        "\n",
        "xpoints = np.array([6,5,4,8,11,33,44,12,14])\n",
        "ypoints = np.array([11,4,9,12,2,1,34,21,6])\n",
        "\n",
        "plt.subplot(2,3,5)\n",
        "plt.scatter(xpoints, ypoints)\n",
        "plt.title(\"Scatter Plot\")\n",
        "\n",
        "x = [2,4,1,5,7,8,9,10,11,23,4]\n",
        "\n",
        "plt.subplot(2,3,6)\n",
        "plt.hist(x)\n",
        "\n",
        "plt.show()"
      ],
      "metadata": {
        "colab": {
          "base_uri": "https://localhost:8080/",
          "height": 265
        },
        "id": "-D938rVilkXN",
        "outputId": "e4801363-16cf-43f3-8ff9-f6f6a2c4fe1e"
      },
      "execution_count": null,
      "outputs": [
        {
          "output_type": "display_data",
          "data": {
            "text/plain": [
              "<Figure size 432x288 with 6 Axes>"
            ],
            "image/png": "[encoded data removed]"
          },
          "metadata": {
            "needs_background": "light"
          }
        }
      ]
    }
  ]
}