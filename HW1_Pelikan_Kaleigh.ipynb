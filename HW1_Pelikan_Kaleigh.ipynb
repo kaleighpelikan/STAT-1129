{
  "nbformat": 4,
  "nbformat_minor": 0,
  "metadata": {
    "colab": {
      "provenance": [],
      "authorship_tag": "ABX9TyPjTR54DGlNLDycMXAK3dy2",
      "include_colab_link": true
    },
    "kernelspec": {
      "name": "python3",
      "display_name": "Python 3"
    },
    "language_info": {
      "name": "python"
    }
  },
  "cells": [
    {
      "cell_type": "markdown",
      "metadata": {
        "id": "view-in-github",
        "colab_type": "text"
      },
      "source": [
        "<a href=\"https://colab.research.google.com/github/kaleighpelikan/STAT-1129/blob/main/HW1_Pelikan_Kaleigh.ipynb\" target=\"_parent\"><img src=\"https://colab.research.google.com/assets/colab-badge.svg\" alt=\"Open In Colab\"/></a>"
      ]
    },
    {
      "cell_type": "markdown",
      "source": [
        "HW 1 Question 1"
      ],
      "metadata": {
        "id": "TAogs8bNCZ5g"
      }
    },
    {
      "cell_type": "code",
      "source": [
        "numbers = list(range(30,65,5))"
      ],
      "metadata": {
        "id": "mHOr_R5BCeUg"
      },
      "execution_count": 1,
      "outputs": []
    },
    {
      "cell_type": "code",
      "source": [
        "print(numbers)"
      ],
      "metadata": {
        "colab": {
          "base_uri": "https://localhost:8080/"
        },
        "id": "T0P_BfF7Ci4r",
        "outputId": "376f5484-49c6-47c2-aec7-ef79b27f9c95"
      },
      "execution_count": 2,
      "outputs": [
        {
          "output_type": "stream",
          "name": "stdout",
          "text": [
            "[30, 35, 40, 45, 50, 55, 60]\n"
          ]
        }
      ]
    },
    {
      "cell_type": "code",
      "source": [
        "numbers.reverse()\n",
        "print(numbers)"
      ],
      "metadata": {
        "colab": {
          "base_uri": "https://localhost:8080/"
        },
        "id": "6IIR5yq0ClGJ",
        "outputId": "55f51b82-2a7d-4641-cd48-7f5833a33e57"
      },
      "execution_count": 4,
      "outputs": [
        {
          "output_type": "stream",
          "name": "stdout",
          "text": [
            "[60, 55, 50, 45, 40, 35, 30]\n"
          ]
        }
      ]
    },
    {
      "cell_type": "code",
      "source": [
        "numbers.reverse()\n",
        "numbers.append(65)\n",
        "numbers.reverse()\n",
        "print(numbers)"
      ],
      "metadata": {
        "colab": {
          "base_uri": "https://localhost:8080/"
        },
        "id": "NjRjHKHhCtlV",
        "outputId": "e9882524-2534-4df0-d06d-e193850a0906"
      },
      "execution_count": 5,
      "outputs": [
        {
          "output_type": "stream",
          "name": "stdout",
          "text": [
            "[65, 60, 55, 50, 45, 40, 35, 30]\n"
          ]
        }
      ]
    },
    {
      "cell_type": "markdown",
      "source": [
        "HW 1 Question 2"
      ],
      "metadata": {
        "id": "SbmOQTQNC0-w"
      }
    },
    {
      "cell_type": "code",
      "source": [
        "list = []\n",
        "for x in range(0,21,1):\n",
        "  list.append(x)\n",
        "print(list)\n",
        "list.remove(0)\n",
        "print(list)"
      ],
      "metadata": {
        "colab": {
          "base_uri": "https://localhost:8080/"
        },
        "id": "_l28qcyEC3rr",
        "outputId": "34e69887-ede3-4466-9da6-02728c0c6eb7"
      },
      "execution_count": 16,
      "outputs": [
        {
          "output_type": "stream",
          "name": "stdout",
          "text": [
            "[0, 1, 2, 3, 4, 5, 6, 7, 8, 9, 10, 11, 12, 13, 14, 15, 16, 17, 18, 19, 20]\n",
            "[1, 2, 3, 4, 5, 6, 7, 8, 9, 10, 11, 12, 13, 14, 15, 16, 17, 18, 19, 20]\n"
          ]
        }
      ]
    },
    {
      "cell_type": "code",
      "source": [
        "print(len(list))\n",
        "print(max(list))\n",
        "print(min(list))"
      ],
      "metadata": {
        "colab": {
          "base_uri": "https://localhost:8080/"
        },
        "id": "LK5a5FoODog6",
        "outputId": "c9edec1d-4aee-49a4-c920-cc7c0c2a40c2"
      },
      "execution_count": 17,
      "outputs": [
        {
          "output_type": "stream",
          "name": "stdout",
          "text": [
            "20\n",
            "20\n",
            "1\n"
          ]
        }
      ]
    },
    {
      "cell_type": "code",
      "source": [
        "sum(list)"
      ],
      "metadata": {
        "colab": {
          "base_uri": "https://localhost:8080/"
        },
        "id": "c0-Unxy5Dw7g",
        "outputId": "305b71a5-84ab-427e-b786-4584bc9350a8"
      },
      "execution_count": 18,
      "outputs": [
        {
          "output_type": "execute_result",
          "data": {
            "text/plain": [
              "210"
            ]
          },
          "metadata": {},
          "execution_count": 18
        }
      ]
    },
    {
      "cell_type": "markdown",
      "source": [
        "HW 1 QUESTION 3"
      ],
      "metadata": {
        "id": "FafIMETuDynR"
      }
    },
    {
      "cell_type": "code",
      "source": [
        "weather = {\"Sunny\" : \"play\", \"Rainy\" : \"watch TV\", \"Cloudy\" : \"walk\"}\n",
        "for weather, activity in weather.items():\n",
        "  print(\"When \" + weather + \" let us \" + activity)"
      ],
      "metadata": {
        "colab": {
          "base_uri": "https://localhost:8080/"
        },
        "id": "M1aJ2fDiD0f4",
        "outputId": "83b2c3bf-2459-4792-d40c-a7ab146092cd"
      },
      "execution_count": 22,
      "outputs": [
        {
          "output_type": "stream",
          "name": "stdout",
          "text": [
            "When Sunny let us play\n",
            "When Rainy let us watch TV\n",
            "When Cloudy let us walk\n"
          ]
        }
      ]
    },
    {
      "cell_type": "code",
      "source": [
        "weather = {\"Sunny\" : \"play\", \"Rainy\" : \"watch TV\", \"Cloudy\" : \"walk\"}\n",
        "weather.update({\"snowy\" : \"ski\"})\n",
        "print(weather)"
      ],
      "metadata": {
        "colab": {
          "base_uri": "https://localhost:8080/"
        },
        "id": "8E8UbHFRESiO",
        "outputId": "8c18cd4d-9fcb-434c-8c80-bc207b95c522"
      },
      "execution_count": 23,
      "outputs": [
        {
          "output_type": "stream",
          "name": "stdout",
          "text": [
            "{'Sunny': 'play', 'Rainy': 'watch TV', 'Cloudy': 'walk', 'snowy': 'ski'}\n"
          ]
        }
      ]
    }
  ]
}