{
 "cells": [
  {
   "cell_type": "code",
   "execution_count": 1,
   "id": "eef025cb",
   "metadata": {},
   "outputs": [
    {
     "name": "stdout",
     "output_type": "stream",
     "text": [
      "2,4,6,8,4,5,2,1,9,0,4,6,7,4,3,2,1,9,10,3,7,9,6,0,1,3,5,6,7,8,9,10,2,3,6,8,9,10,6,7,4,3\n",
      "2,1,9,10,3,7,9,6,0,1,3,5,6,7,8,9,10,2,3,6,8,9,10,2,4,6,8,4,5,2,1,9,0,4,6,7,4,3,2,1,9,10,3,7,9,6\n",
      "4,5,2,1,9,0,4,6,7,4,3,2,1,9,10,3,7,9,6,0,1,3,5,6,7,8,9,10,2,3,6,8,9,10,6,7,4,3,6,8,4,5,2\n",
      "10,3,7,9,6,0,1,3,5,6,7,8,9,10,2,3,6,8,9,10,2,4,6,8,4,5,2,1,9,0,4,6,7,4\n",
      "2,4,6,8,4,5,2,1,9,0,4,6,7,4,3,2,1,9,10,3,7,9,6\n"
     ]
    }
   ],
   "source": [
    "f = open(\"numbers.txt\", \"r\")\n",
    "print(f.read())"
   ]
  },
  {
   "cell_type": "code",
   "execution_count": 2,
   "id": "2ba2b93d",
   "metadata": {},
   "outputs": [
    {
     "name": "stdout",
     "output_type": "stream",
     "text": [
      "['2,4,6,8,4,5,2,1,9,0,4,6,7,4,3,2,1,9,10,3,7,9,6,0,1,3,5,6,7,8,9,10,2,3,6,8,9,10,6,7,4,3', '2,1,9,10,3,7,9,6,0,1,3,5,6,7,8,9,10,2,3,6,8,9,10,2,4,6,8,4,5,2,1,9,0,4,6,7,4,3,2,1,9,10,3,7,9,6', '4,5,2,1,9,0,4,6,7,4,3,2,1,9,10,3,7,9,6,0,1,3,5,6,7,8,9,10,2,3,6,8,9,10,6,7,4,3,6,8,4,5,2', '10,3,7,9,6,0,1,3,5,6,7,8,9,10,2,3,6,8,9,10,2,4,6,8,4,5,2,1,9,0,4,6,7,4', '2,4,6,8,4,5,2,1,9,0,4,6,7,4,3,2,1,9,10,3,7,9,6']\n"
     ]
    }
   ],
   "source": [
    "f = open(\"numbers.txt\")\n",
    "numbers = []\n",
    "for line in f:\n",
    "  numbers.append(line.strip())\n",
    "print(numbers)"
   ]
  },
  {
   "cell_type": "code",
   "execution_count": 3,
   "id": "17c43410",
   "metadata": {},
   "outputs": [
    {
     "name": "stdout",
     "output_type": "stream",
     "text": [
      "{2: 19, 4: 22, 6: 26, 8: 13, 5: 10, 1: 14, 9: 24, 0: 9, 7: 17, 3: 20, 10: 14}\n"
     ]
    }
   ],
   "source": [
    "numbers = [2,4,6,8,4,5,2,1,9,0,4,6,7,4,3,2,1,9,10,3,7,9,6,0,1,3,5,6,7,8,9,10,2,3,6,8,9,10,6,7,4,3,\n",
    "           2,1,9,10,3,7,9,6,0,1,3,5,6,7,8,9,10,2,3,6,8,9,10,2,4,6,8,4,5,2,1,9,0,4,6,7,4,3,2,1,9,10,3,7,9,6,\n",
    "           4,5,2,1,9,0,4,6,7,4,3,2,1,9,10,3,7,9,6,0,1,3,5,6,7,8,9,10,2,3,6,8,9,10,6,7,4,3,6,8,4,5,2,\n",
    "           10,3,7,9,6,0,1,3,5,6,7,8,9,10,2,3,6,8,9,10,2,4,6,8,4,5,2,1,9,0,4,6,7,4,2,4,6,8,4,5,2,\n",
    "           1,9,0,4,6,7,4,3,2,1,9,10,3,7,9,6]\n",
    "number_frequency = {}\n",
    "\n",
    "for number in numbers:\n",
    "  if number in number_frequency:\n",
    "    number_frequency[number] += 1\n",
    "  else:\n",
    "    number_frequency[number] = 1\n",
    "\n",
    "print(number_frequency)\n"
   ]
  },
  {
   "cell_type": "code",
   "execution_count": 4,
   "id": "a74dcfe1",
   "metadata": {},
   "outputs": [
    {
     "name": "stdout",
     "output_type": "stream",
     "text": [
      "0         9\n",
      "1         14\n",
      "2         19\n",
      "3         20\n",
      "4         22\n",
      "5         10\n",
      "6         26\n",
      "7         17\n",
      "8         13\n",
      "9         24\n",
      "10        14\n"
     ]
    }
   ],
   "source": [
    "for number, frequency in sorted(number_frequency.items()):\n",
    "   print(f'{number:<10}{frequency}')"
   ]
  },
  {
   "cell_type": "code",
   "execution_count": 5,
   "id": "b1580355",
   "metadata": {},
   "outputs": [
    {
     "data": {
      "image/png": "[encoded data removed]",
      "text/plain": [
       "<Figure size 432x288 with 1 Axes>"
      ]
     },
     "metadata": {
      "needs_background": "light"
     },
     "output_type": "display_data"
    }
   ],
   "source": [
    "import matplotlib.pyplot as plt\n",
    "\n",
    "x = (2,4,6,8,4,5,2,1,9,0,4,6,7,4,3,2,1,9,10,3,7,9,6,0,1,3,5,6,7,8,9,10,2,3,6,8,9,10,6,7,4,3,\n",
    "     2,1,9,10,3,7,9,6,0,1,3,5,6,7,8,9,10,2,3,6,8,9,10,2,4,6,8,4,5,2,1,9,0,4,6,7,4,3,2,1,9,10,3,7,9,6,\n",
    "     4,5,2,1,9,0,4,6,7,4,3,2,1,9,10,3,7,9,6,0,1,3,5,6,7,8,9,10,2,3,6,8,9,10,6,7,4,3,6,8,4,5,2,\n",
    "     10,3,7,9,6,0,1,3,5,6,7,8,9,10,2,3,6,8,9,10,2,4,6,8,4,5,2,1,9,0,4,6,7,4,\n",
    "     2,4,6,8,4,5,2,1,9,0,4,6,7,4,3,2,1,9,10,3,7,9,6)\n",
    "plt.hist(x)\n",
    "plt.title(\"Number Frequency\")\n",
    "plt.show()"
   ]
  },
  {
   "cell_type": "code",
   "execution_count": 6,
   "id": "5e4c8f7c",
   "metadata": {},
   "outputs": [
    {
     "name": "stdout",
     "output_type": "stream",
     "text": [
      "{\"2\": 19, \"4\": 22, \"6\": 26, \"8\": 13, \"5\": 10, \"1\": 14, \"9\": 24, \"0\": 9, \"7\": 17, \"3\": 20, \"10\": 14}\n"
     ]
    }
   ],
   "source": [
    "import json\n",
    "\n",
    "numbers = [2,4,6,8,4,5,2,1,9,0,4,6,7,4,3,2,1,9,10,3,7,9,6,0,1,3,5,6,7,8,9,10,2,3,6,8,9,10,6,7,4,3,\n",
    "           2,1,9,10,3,7,9,6,0,1,3,5,6,7,8,9,10,2,3,6,8,9,10,2,4,6,8,4,5,2,1,9,0,4,6,7,4,3,2,1,9,10,3,7,9,6,\n",
    "           4,5,2,1,9,0,4,6,7,4,3,2,1,9,10,3,7,9,6,0,1,3,5,6,7,8,9,10,2,3,6,8,9,10,6,7,4,3,6,8,4,5,2,\n",
    "           10,3,7,9,6,0,1,3,5,6,7,8,9,10,2,3,6,8,9,10,2,4,6,8,4,5,2,1,9,0,4,6,7,4,\n",
    "           2,4,6,8,4,5,2,1,9,0,4,6,7,4,3,2,1,9,10,3,7,9,6]\n",
    "number_frequency = {}\n",
    "\n",
    "for number in numbers:\n",
    "  if number in number_frequency:\n",
    "    number_frequency[number] += 1\n",
    "  else:\n",
    "    number_frequency[number] = 1\n",
    "\n",
    "print(json.dumps(number_frequency))"
   ]
  },
  {
   "cell_type": "code",
   "execution_count": 7,
   "id": "78ed23dc",
   "metadata": {},
   "outputs": [],
   "source": [
    "import json\n",
    "\n",
    "numbers = [2,4,6,8,4,5,2,1,9,0,4,6,7,4,3,2,1,9,10,3,7,9,6,0,1,3,5,6,7,8,9,10,2,3,6,8,9,10,6,7,4,3,\n",
    "           2,1,9,10,3,7,9,6,0,1,3,5,6,7,8,9,10,2,3,6,8,9,10,2,4,6,8,4,5,2,1,9,0,4,6,7,4,3,2,1,9,10,3,7,9,6,\n",
    "           4,5,2,1,9,0,4,6,7,4,3,2,1,9,10,3,7,9,6,0,1,3,5,6,7,8,9,10,2,3,6,8,9,10,6,7,4,3,6,8,4,5,2,\n",
    "           10,3,7,9,6,0,1,3,5,6,7,8,9,10,2,3,6,8,9,10,2,4,6,8,4,5,2,1,9,0,4,6,7,4,\n",
    "           2,4,6,8,4,5,2,1,9,0,4,6,7,4,3,2,1,9,10,3,7,9,6]\n",
    "number_frequency = {}\n",
    "\n",
    "for number in numbers:\n",
    "  if number in number_frequency:\n",
    "    number_frequency[number] += 1\n",
    "  else:\n",
    "    number_frequency[number] = 1\n",
    "\n",
    "filename = 'numberfrequency.json'\n",
    "with open(filename, 'w') as file_object:\n",
    "  json.dump(numbers, file_object)"
   ]
  },
  {
   "cell_type": "code",
   "execution_count": 32,
   "id": "41decde4",
   "metadata": {
    "scrolled": false
   },
   "outputs": [
    {
     "name": "stdout",
     "output_type": "stream",
     "text": [
      "   Order Date             Order ID Payment Instrument Type     Website  Purchase Order Number Ordering Customer Email Shipment Date Shipping Address Name Shipping Address Street 1  Shipping Address Street 2 Shipping Address City Shipping Address State Shipping Address Zip Order Status Carrier Name & Tracking Number  Subtotal  Shipping Charge  Tax Before Promotions  Total Promotions  Tax Charged  Total Charged Buyer Name\n",
      "0    04/01/19  112-0000000-0000001             Visa - 0001  Amazon.com                    NaN    your_email@gmail.com      04/01/19             Your Name             1 YOUR STREET                        NaN               ANYTOWN                     ME           00001-0001      Shipped                     USPS(0001)     35.00             0.00                   1.93                 0        21.93          36.93  Your Name\n",
      "1    04/01/19  112-0000000-0000002             Visa - 0001  Amazon.com                    NaN    your_email@gmail.com      04/01/19             Your Name             1 YOUR STREET                        NaN               ANYTOWN                     ME           00001-0001      Shipped                     USPS(0001)     16.99             0.00                   0.00                 0         0.00          16.99  Your Name\n",
      "2    04/01/19  112-0000000-0000003             Visa - 0001  Amazon.com                    NaN    your_email@gmail.com      04/01/19             Your Name             1 YOUR STREET                        NaN               ANYTOWN                     ME           00001-0001      Shipped                     USPS(0001)      9.99             0.00                   0.00                 0         0.00           9.99  Your Name\n",
      "3    04/04/19  112-0000000-0000004             Visa - 0001  Amazon.com                    NaN    your_email@gmail.com      04/05/19             Your Name             1 YOUR STREET                        NaN               ANYTOWN                     ME           00001-0001      Shipped                      UPS(0002)    147.98             0.00                   8.14                 0         8.14         156.12  Your Name\n",
      "4    04/05/19  112-0000000-0000005             Visa - 0001  Amazon.com                    NaN    your_email@gmail.com      04/07/19             Your Name             1 YOUR STREET                        NaN               ANYTOWN                     ME           00001-0001      Shipped                     USPS(0001)     14.99             0.00                   0.00                 0         0.00          14.99  Your Name\n",
      "5    04/05/19  112-0000000-0000006             Visa - 0001  Amazon.com                    NaN    your_email@gmail.com      04/08/19             Your Name             1 YOUR STREET                        NaN               ANYTOWN                     ME           00001-0001      Shipped                     USPS(0001)     11.99             0.00                   0.66                 0         0.66          12.65  Your Name\n",
      "6    04/07/19  112-0000000-0000007             Visa - 0001  Amazon.com                    NaN    your_email@gmail.com      04/08/19             Your Name             1 YOUR STREET                        NaN               ANYTOWN                     ME           00001-0001      Shipped                     USPS(0001)     38.98             0.00                   1.65                 0         1.65          40.63  Your Name\n",
      "7    04/08/19  112-0000000-0000008             Visa - 0001  Amazon.com                    NaN    your_email@gmail.com      04/08/19             Your Name             1 YOUR STREET                        NaN               ANYTOWN                     ME           00001-0001      Shipped                      UPS(0002)     44.99             0.00                   0.00                 0         0.00          44.99  Your Name\n",
      "8    04/20/19  112-0000000-0000009             Visa - 0001  Amazon.com                    NaN    your_email@gmail.com      04/21/19             Your Name             1 YOUR STREET                        NaN               ANYTOWN                     ME           00001-0001      Shipped                     USPS(0001)     27.30             0.00                   1.50                 0         1.50          28.80  Your Name\n",
      "9    04/23/19  112-0000000-0000010             Visa - 0001  Amazon.com                    NaN    your_email@gmail.com      04/24/19             Your Name             1 YOUR STREET                        NaN               ANYTOWN                     ME           00001-0001      Shipped                      UPS(0002)     37.08             0.00                   0.00                 0         0.00          37.08  Your Name\n",
      "10   05/05/19  112-0000000-0000011             Visa - 0001  Amazon.com                    NaN    your_email@gmail.com      05/07/19             Your Name             1 YOUR STREET                        NaN               ANYTOWN                     ME           00001-0001      Shipped               China Post(0003)     12.99             0.00                   0.00                 0         0.00          12.99  Your Name\n",
      "11   05/06/19  112-0000000-0000012             Visa - 0001  Amazon.com                    NaN    your_email@gmail.com      05/07/19             Your Name             1 YOUR STREET                        NaN               ANYTOWN                     ME           00001-0001      Shipped                     USPS(0001)      7.20             0.00                   0.40                 0         0.40           7.60  Your Name\n",
      "12   05/10/19  112-0000000-0000013             Visa - 0001  Amazon.com                    NaN    your_email@gmail.com      05/12/19             Your Name             1 YOUR STREET                        NaN               ANYTOWN                     ME           00001-0001      Shipped                     USPS(0001)     27.99             0.00                   0.00                 0         0.00          27.99  Your Name\n",
      "13   05/14/19  112-0000000-0000014             Visa - 0001  Amazon.com                    NaN    your_email@gmail.com      05/15/19             Your Name             1 YOUR STREET                        NaN               ANYTOWN                     ME           00001-0001      Shipped                     USPS(0001)     15.32             0.00                   0.84                 0         0.84          16.16  Your Name\n",
      "14   05/18/19  112-0000000-0000015             Visa - 0001  Amazon.com                    NaN    your_email@gmail.com      05/19/19             Your Name             1 YOUR STREET                        NaN               ANYTOWN                     ME           00001-0001      Shipped                     USPS(0001)      9.95             0.00                   0.55                 0         0.55          10.50  Your Name\n",
      "15   05/19/19  112-0000000-0000016             Visa - 0001  Amazon.com                    NaN    your_email@gmail.com      05/20/19             Your Name             1 YOUR STREET                        NaN               ANYTOWN                     ME           00001-0001      Shipped                     USPS(0001)     38.89             0.00                   0.00                 0         0.00          38.89  Your Name\n",
      "16   05/21/19  112-0000000-0000017             Visa - 0001  Amazon.com                    NaN    your_email@gmail.com      05/22/19             Your Name             1 YOUR STREET                        NaN               ANYTOWN                     ME           00001-0001      Shipped                     USPS(0001)      8.95             0.00                   0.49                 0         0.49           9.44  Your Name\n",
      "17   05/21/19  112-0000000-0000018             Visa - 0001  Amazon.com                    NaN    your_email@gmail.com      05/22/19             Your Name             1 YOUR STREET                        NaN               ANYTOWN                     ME           00001-0001      Shipped                     USPS(0001)     12.99             0.00                   0.00                 0         0.00          12.99  Your Name\n",
      "18   05/21/19  112-0000000-0000019             Visa - 5555  Amazon.com                    NaN    your_email@gmail.com      05/22/19             Your Name             1 YOUR STREET                        NaN               ANYTOWN                     ME           00001-0001      Shipped                     USPS(0001)      7.99             0.00                   0.00                 0         0.00           7.99  Your Name\n",
      "19   05/22/19  112-0000000-0000020             Visa - 5555  Amazon.com                    NaN    your_email@gmail.com      05/22/19             Your Name             1 YOUR STREET                        NaN               ANYTOWN                     ME           00001-0001      Shipped                     USPS(0001)     16.98             0.00                   0.93                 0         0.93          17.91  Your Name\n",
      "20   05/22/19  112-0000000-0000021             Visa - 5555  Amazon.com                    NaN    your_email@gmail.com      05/23/19             Your Name             1 YOUR STREET                        NaN               ANYTOWN                     ME           00001-0001      Shipped                     USPS(0001)     35.00             0.00                   1.92                 0         1.92          36.92  Your Name\n",
      "21   05/22/19  112-0000000-0000022             Visa - 5555  Amazon.com                    NaN    your_email@gmail.com      05/23/19             Your Name             1 YOUR STREET                        NaN               ANYTOWN                     ME           00001-0001      Shipped                     USPS(0001)      7.50             0.00                   0.41                 0         0.41           7.91  Your Name\n",
      "22   05/24/19  112-0000000-0000023             Visa - 0001  Amazon.com                    NaN    your_email@gmail.com      05/25/19             Your Name             1 YOUR STREET                        NaN               ANYTOWN                     ME           00001-0001      Shipped                     USPS(0001)      7.67             0.00                   0.00                 0         0.00           7.67  Your Name\n",
      "23   05/25/19  112-0000000-0000024             Visa - 0001  Amazon.com                    NaN    your_email@gmail.com      05/27/19             Your Name             1 YOUR STREET                        NaN               ANYTOWN                     ME           00001-0001      Shipped                     USPS(0001)      9.80             0.00                   0.00                 0         0.00           9.80  Your Name\n",
      "24   05/28/19  112-0000000-0000025             Visa - 0001  Amazon.com                    NaN    your_email@gmail.com      05/28/19             Your Name             1 YOUR STREET                        NaN               ANYTOWN                     ME           00001-0001      Shipped                     USPS(0001)     13.95             0.00                   0.00                 0         0.00          13.95  Your Name\n",
      "25   05/29/19  112-0000000-0000026             Visa - 0001  Amazon.com                    NaN    your_email@gmail.com      05/30/19             Your Name             1 YOUR STREET                        NaN               ANYTOWN                     ME           00001-0001      Shipped                     USPS(0001)      9.99             0.00                   0.00                 0         0.00           9.99  Your Name\n",
      "26   05/30/19  112-0000000-0000027             Visa - 0001  Amazon.com                    NaN    your_email@gmail.com      06/01/19             Your Name             1 YOUR STREET                        NaN               ANYTOWN                     ME           00001-0001      Shipped                      UPS(0002)     10.98             0.00                   0.60                 0         0.60          11.58  Your Name\n",
      "27   05/30/19  112-0000000-0000028             Visa - 0001  Amazon.com                    NaN    your_email@gmail.com      05/30/19             Your Name             1 YOUR STREET                        NaN               ANYTOWN                     ME           00001-0001      Shipped                     USPS(0001)     32.98             0.00                   0.82                 0         0.82          33.80  Your Name\n",
      "28   06/03/19  112-0000000-0000029             Visa - 0001  Amazon.com                    NaN    your_email@gmail.com      06/05/19             Your Name             1 YOUR STREET                        NaN               ANYTOWN                     ME           00001-0001      Shipped                     USPS(0001)     28.99             0.00                   0.00                 0         0.00          28.99  Your Name\n",
      "29   06/03/19  112-0000000-0000030             Visa - 0001  Amazon.com                    NaN    your_email@gmail.com      06/05/19             Your Name             1 YOUR STREET                        NaN               ANYTOWN                     ME           00001-0001      Shipped                      UPS(0002)     13.88             0.00                   0.00                 0         0.00          13.88  Your Name\n",
      "30   06/05/19  112-0000000-0000031             Visa - 0001  Amazon.com                    NaN    your_email@gmail.com      06/05/19             Your Name             1 YOUR STREET                        NaN               ANYTOWN                     ME           00001-0001      Shipped                     USPS(0001)     11.62             0.00                   0.64                 0         0.64          12.26  Your Name\n",
      "31   06/18/19  112-0000000-0000032             Visa - 0001  Amazon.com                    NaN    your_email@gmail.com      06/19/19             Your Name             1 YOUR STREET                        NaN               ANYTOWN                     ME           00001-0001      Shipped                     USPS(0001)     11.98             0.00                   0.66                 0         0.66          12.64  Your Name\n",
      "32   06/25/19  112-0000000-0000033             Visa - 0001  Amazon.com                    NaN    your_email@gmail.com      06/26/19             Your Name             1 YOUR STREET                        NaN               ANYTOWN                     ME           00001-0001      Shipped                      UPS(0002)     51.99             0.00                   0.00                 0         0.00          51.99  Your Name\n",
      "33   06/25/19  112-0000000-0000034             Visa - 0001  Amazon.com                    NaN    your_email@gmail.com      06/26/19             Your Name             1 YOUR STREET                        NaN               ANYTOWN                     ME           00001-0001      Shipped                     USPS(0001)     10.59             0.00                   0.00                 0         0.00          10.59  Your Name\n",
      "34   07/03/19  112-0000000-0000035             Visa - 0001  Amazon.com                    NaN    your_email@gmail.com      07/04/19             Your Name             1 YOUR STREET                        NaN               ANYTOWN                     ME           00001-0001      Shipped                     USPS(0001)      7.94             3.99                   0.00                 0         0.00          11.93  Your Name\n",
      "35   07/03/19  112-0000000-0000036             Visa - 0001  Amazon.com                    NaN    your_email@gmail.com      07/05/19             Your Name             1 YOUR STREET                        NaN               ANYTOWN                     ME           00001-0001      Shipped                     USPS(0001)      8.32             7.96                   0.00                 0         0.00          16.28  Your Name\n",
      "36   07/03/19  112-0000000-0000037             Visa - 0001  Amazon.com                    NaN    your_email@gmail.com      07/08/19             Your Name             1 YOUR STREET                        NaN               ANYTOWN                     ME           00001-0001      Shipped                     USPS(0001)     25.62             0.00                   0.85                 0         0.85          26.47  Your Name\n",
      "37   07/03/19  112-0000000-0000038             Visa - 0001  Amazon.com                    NaN    your_email@gmail.com      07/05/19             Your Name             1 YOUR STREET                        NaN               ANYTOWN                     ME           00001-0001      Shipped                     USPS(0001)      0.52             4.95                   0.00                 0         0.00           5.47  Your Name\n",
      "38   07/03/19  112-0000000-0000039             Visa - 0001  Amazon.com                    NaN    your_email@gmail.com      07/04/19             Your Name             1 YOUR STREET                        NaN               ANYTOWN                     ME           00001-0001      Shipped                     USPS(0001)      5.43             3.99                   0.00                 0         0.00           9.42  Your Name\n",
      "39   07/06/19  112-0000000-0000040             Visa - 5555  Amazon.com                    NaN    your_email@gmail.com      07/07/19             Your Name             1 YOUR STREET                        NaN               ANYTOWN                     ME           00001-0001      Shipped                     USPS(0001)     12.99             0.00                   0.00                 0         0.00          12.99  Your Name\n",
      "40   07/06/19  112-0000000-0000041             Visa - 5555  Amazon.com                    NaN    your_email@gmail.com      07/08/19             Your Name             1 YOUR STREET                        NaN               ANYTOWN                     ME           00001-0001      Shipped                     USPS(0001)    102.47             0.00                   4.95                 0         4.95         107.42  Your Name\n",
      "41   07/06/19  112-0000000-0000042             Visa - 5555  Amazon.com                    NaN    your_email@gmail.com      07/07/19             Your Name             1 YOUR STREET                        NaN               ANYTOWN                     ME           00001-0001      Shipped                      UPS(0002)     79.97             0.00                   0.00                10         0.00          69.97  Your Name\n",
      "42   07/06/19  112-0000000-0000043             Visa - 5555  Amazon.com                    NaN    your_email@gmail.com      07/08/19             Your Name             1 YOUR STREET                        NaN               ANYTOWN                     ME           00001-0001      Shipped                     USPS(0001)     49.99             0.00                   0.00                 4         0.00          45.99  Your Name\n",
      "43   07/06/19  112-0000000-0000044             Visa - 0001  Amazon.com                    NaN    your_email@gmail.com      07/07/19             Your Name             1 YOUR STREET                        NaN               ANYTOWN                     ME           00001-0001      Shipped                     USPS(0001)    199.99             0.00                  11.00                 0        11.00         210.99  Your Name\n",
      "44   07/07/19  112-0000000-0000045             Visa - 0001  Amazon.com                    NaN    your_email@gmail.com      07/08/19             Your Name             1 YOUR STREET                        NaN               ANYTOWN                     ME           00001-0001      Shipped                      UPS(0002)     41.97             0.00                   0.00                 0         0.00          41.97  Your Name\n",
      "45   07/09/19  112-0000000-0000046             Visa - 0001  Amazon.com                    NaN    your_email@gmail.com      07/09/19             Your Name             1 YOUR STREET                        NaN               ANYTOWN                     ME           00001-0001      Shipped                     USPS(0001)     15.60             0.00                   0.86                 0         0.86          16.46  Your Name\n",
      "46   07/17/19  112-0000000-0000047             Visa - 0001  Amazon.com                    NaN    your_email@gmail.com      07/18/19             Your Name             1 YOUR STREET                        NaN               ANYTOWN                     ME           00001-0001      Shipped                     USPS(0001)     36.49             0.00                   2.01                 0         2.01          38.50  Your Name\n",
      "47   07/18/19  112-0000000-0000048             Visa - 0001  Amazon.com                    NaN    your_email@gmail.com      07/19/19             Your Name             1 YOUR STREET                        NaN               ANYTOWN                     ME           00001-0001      Shipped                      UPS(0002)     15.95             0.00                   0.00                 0         0.00          15.95  Your Name\n",
      "48   07/18/19  112-0000000-0000049             Visa - 0001  Amazon.com                    NaN    your_email@gmail.com      07/18/19             Your Name             1 YOUR STREET                        NaN               ANYTOWN                     ME           00001-0001      Shipped                     USPS(0001)     99.63             0.00                   3.34                 0         3.34         102.97  Your Name\n",
      "49   07/18/19  112-0000000-0000050             Visa - 0001  Amazon.com                    NaN    your_email@gmail.com      07/18/19             Your Name             1 YOUR STREET                        NaN               ANYTOWN                     ME           00001-0001      Shipped                     USPS(0001)     12.78             0.00                   0.70                 0         0.70          13.48  Your Name\n",
      "50   07/18/19  112-0000000-0000051             Visa - 0001  Amazon.com                    NaN    your_email@gmail.com      07/18/19             Your Name             1 YOUR STREET                        NaN               ANYTOWN                     ME           00001-0001      Shipped                     USPS(0001)     12.78             0.00                   0.70                 0         0.70          13.48  Your Name\n",
      "51   07/21/19  112-0000000-0000052             Visa - 0001  Amazon.com                    NaN    your_email@gmail.com      07/21/19             Your Name             1 YOUR STREET                        NaN               ANYTOWN                     ME           00001-0001      Shipped                     USPS(0001)      6.49             0.00                   0.36                 0         0.36           6.85  Your Name\n",
      "52   07/21/19  112-0000000-0000053             Visa - 0001  Amazon.com                    NaN    your_email@gmail.com      07/22/19             Your Name             1 YOUR STREET                        NaN               ANYTOWN                     ME           00001-0001      Shipped                     USPS(0001)      5.76             0.00                   0.00                 0         0.00           5.76  Your Name\n",
      "53   07/23/19  112-0000000-0000054             Visa - 0001  Amazon.com                    NaN    your_email@gmail.com      07/23/19             Your Name             1 YOUR STREET                        NaN               ANYTOWN                     ME           00001-0001      Shipped                      UPS(0002)     42.93             0.00                   2.36                 0         2.36          45.29  Your Name\n",
      "54   07/30/19  112-0000000-0000055             Visa - 0001  Amazon.com                    NaN    your_email@gmail.com      07/31/19             Your Name             1 YOUR STREET                        NaN               ANYTOWN                     ME           00001-0001      Shipped                     USPS(0001)     49.99             0.00                   0.00                15         0.00          34.99  Your Name\n",
      "55   07/30/19  112-0000000-0000056             Visa - 0001  Amazon.com                    NaN    your_email@gmail.com      08/01/19             Your Name             1 YOUR STREET                        NaN               ANYTOWN                     ME           00001-0001      Shipped                     USPS(0001)      6.30             0.00                   0.00                 0         0.00           6.30  Your Name\n",
      "56   07/30/19  112-0000000-0000057             Visa - 0001  Amazon.com                    NaN    your_email@gmail.com      08/01/19             Your Name             1 YOUR STREET                        NaN               ANYTOWN                     ME           00001-0001      Shipped                     USPS(0001)      5.99             0.00                   0.05                 5         0.05           1.04  Your Name\n",
      "57   07/31/19  112-0000000-0000058             Visa - 0001  Amazon.com                    NaN    your_email@gmail.com      07/31/19             Your Name             1 YOUR STREET                        NaN               ANYTOWN                     ME           00001-0001      Shipped                      UPS(0002)     35.99             0.00                   0.00                 0         0.00          35.99  Your Name\n",
      "58   07/31/19  112-0000000-0000059             Visa - 0001  Amazon.com                    NaN    your_email@gmail.com      08/01/19           Your Friend    5 FRIEND STREET APT. 1                        NaN            WASHINGTON                     DC           20001-5497      Shipped                      UPS(0002)     54.88             0.00                   3.29                 0         3.29          58.17  Your Name\n"
     ]
    }
   ],
   "source": [
    "import pandas as pd\n",
    "df = pd.read_csv('amazon-orders.csv')\n",
    "print(df.to_string())"
   ]
  },
  {
   "cell_type": "code",
   "execution_count": 9,
   "id": "a5727bd9",
   "metadata": {},
   "outputs": [
    {
     "name": "stdout",
     "output_type": "stream",
     "text": [
      "(59, 22)\n"
     ]
    }
   ],
   "source": [
    "print(df.shape)"
   ]
  },
  {
   "cell_type": "code",
   "execution_count": 10,
   "id": "d2baa0b0",
   "metadata": {},
   "outputs": [
    {
     "name": "stdout",
     "output_type": "stream",
     "text": [
      "30.131016949152542\n"
     ]
    }
   ],
   "source": [
    "x = df[\"Total Charged\"].mean()\n",
    "print(x)"
   ]
  },
  {
   "cell_type": "code",
   "execution_count": 11,
   "id": "b37c1ff5",
   "metadata": {},
   "outputs": [
    {
     "name": "stdout",
     "output_type": "stream",
     "text": [
      "1.04\n"
     ]
    }
   ],
   "source": [
    "x = df[\"Total Charged\"].min()\n",
    "print(x)"
   ]
  },
  {
   "cell_type": "code",
   "execution_count": 12,
   "id": "2b36e5a9",
   "metadata": {},
   "outputs": [
    {
     "name": "stdout",
     "output_type": "stream",
     "text": [
      "210.99\n"
     ]
    }
   ],
   "source": [
    "x = df[\"Total Charged\"].max()\n",
    "print(x)"
   ]
  },
  {
   "cell_type": "code",
   "execution_count": 13,
   "id": "97a430be",
   "metadata": {},
   "outputs": [
    {
     "name": "stdout",
     "output_type": "stream",
     "text": [
      "15.95\n"
     ]
    }
   ],
   "source": [
    "x = df[\"Total Charged\"].median()\n",
    "print(x)"
   ]
  },
  {
   "cell_type": "code",
   "execution_count": 14,
   "id": "33beaa96",
   "metadata": {},
   "outputs": [
    {
     "name": "stdout",
     "output_type": "stream",
     "text": [
      "36.42273246651456\n"
     ]
    }
   ],
   "source": [
    "x = df[\"Total Charged\"].std()\n",
    "print(x)"
   ]
  },
  {
   "cell_type": "code",
   "execution_count": 15,
   "id": "b0669943",
   "metadata": {},
   "outputs": [
    {
     "data": {
      "image/png": "[encoded data removed]",
      "text/plain": [
       "<Figure size 432x288 with 1 Axes>"
      ]
     },
     "metadata": {
      "needs_background": "light"
     },
     "output_type": "display_data"
    }
   ],
   "source": [
    "import matplotlib.pyplot as plt\n",
    "import pandas as pd\n",
    "\n",
    "df = pd.read_csv('amazon-orders.csv')\n",
    "\n",
    "total = df[\"Total Charged\"]\n",
    "tax = df[\"Tax Charged\"]\n",
    "subtotal = df[\"Subtotal\"]\n",
    "\n",
    "\n",
    "plt.plot(total, label = \"Total Charged\")\n",
    "plt.plot(tax, label = \"Tax Charged\")\n",
    "plt.plot(subtotal, label = \"Subtotal\")\n",
    "plt.legend()\n",
    "plt.xlabel(\"Order Number\")\n",
    "plt.ylabel(\"Dollar Amount\")\n",
    "plt.title(\"Multiple Line Comparison\")\n",
    "plt.show()"
   ]
  },
  {
   "cell_type": "code",
   "execution_count": 16,
   "id": "e4bd57fa",
   "metadata": {},
   "outputs": [
    {
     "name": "stdout",
     "output_type": "stream",
     "text": [
      "  Order Date  Total Charged\n",
      "0   04/01/19          36.93\n",
      "1   04/01/19          16.99\n",
      "2   04/01/19           9.99\n",
      "3   04/04/19         156.12\n",
      "4   04/05/19          14.99\n",
      "5   04/05/19          12.65\n",
      "6   04/07/19          40.63\n",
      "7   04/08/19          44.99\n",
      "8   04/20/19          28.80\n",
      "9   04/23/19          37.08\n"
     ]
    }
   ],
   "source": [
    "import pandas as pd\n",
    "df = pd.read_csv('amazon-orders.csv')\n",
    "april_summary = df.loc[0:9, [\"Order Date\", \"Total Charged\"]]\n",
    "print(april_summary)"
   ]
  },
  {
   "cell_type": "code",
   "execution_count": 17,
   "id": "fd2ae767",
   "metadata": {},
   "outputs": [
    {
     "name": "stdout",
     "output_type": "stream",
     "text": [
      "399.17\n"
     ]
    }
   ],
   "source": [
    "x = april_summary[\"Total Charged\"].sum()\n",
    "print(x)"
   ]
  },
  {
   "cell_type": "code",
   "execution_count": 18,
   "id": "3b970cae",
   "metadata": {},
   "outputs": [
    {
     "name": "stdout",
     "output_type": "stream",
     "text": [
      "39.917\n"
     ]
    }
   ],
   "source": [
    "x = april_summary[\"Total Charged\"].mean()\n",
    "print(x)"
   ]
  },
  {
   "cell_type": "code",
   "execution_count": 19,
   "id": "46b51338",
   "metadata": {},
   "outputs": [
    {
     "name": "stdout",
     "output_type": "stream",
     "text": [
      "   Order Date  Total Charged\n",
      "10   05/05/19          12.99\n",
      "11   05/06/19           7.60\n",
      "12   05/10/19          27.99\n",
      "13   05/14/19          16.16\n",
      "14   05/18/19          10.50\n",
      "15   05/19/19          38.89\n",
      "16   05/21/19           9.44\n",
      "17   05/21/19          12.99\n",
      "18   05/21/19           7.99\n",
      "19   05/22/19          17.91\n",
      "20   05/22/19          36.92\n",
      "21   05/22/19           7.91\n",
      "22   05/24/19           7.67\n",
      "23   05/25/19           9.80\n",
      "24   05/28/19          13.95\n",
      "25   05/29/19           9.99\n",
      "26   05/30/19          11.58\n",
      "27   05/30/19          33.80\n"
     ]
    }
   ],
   "source": [
    "import pandas as pd\n",
    "df = pd.read_csv('amazon-orders.csv')\n",
    "may_summary = df.loc[10:27, [\"Order Date\", \"Total Charged\"]]\n",
    "print(may_summary)"
   ]
  },
  {
   "cell_type": "code",
   "execution_count": 20,
   "id": "565783f7",
   "metadata": {},
   "outputs": [
    {
     "name": "stdout",
     "output_type": "stream",
     "text": [
      "294.08\n"
     ]
    }
   ],
   "source": [
    "x = may_summary[\"Total Charged\"].sum()\n",
    "print(x)"
   ]
  },
  {
   "cell_type": "code",
   "execution_count": 21,
   "id": "6c132d20",
   "metadata": {},
   "outputs": [
    {
     "name": "stdout",
     "output_type": "stream",
     "text": [
      "16.337777777777777\n"
     ]
    }
   ],
   "source": [
    "x = may_summary[\"Total Charged\"].mean()\n",
    "print(x)"
   ]
  },
  {
   "cell_type": "code",
   "execution_count": 22,
   "id": "c4411dc3",
   "metadata": {},
   "outputs": [
    {
     "name": "stdout",
     "output_type": "stream",
     "text": [
      "   Order Date  Total Charged\n",
      "28   06/03/19          28.99\n",
      "29   06/03/19          13.88\n",
      "30   06/05/19          12.26\n",
      "31   06/18/19          12.64\n",
      "32   06/25/19          51.99\n",
      "33   06/25/19          10.59\n"
     ]
    }
   ],
   "source": [
    "import pandas as pd\n",
    "df = pd.read_csv('amazon-orders.csv')\n",
    "june_summary = df.loc[28:33, [\"Order Date\", \"Total Charged\"]]\n",
    "print(june_summary)"
   ]
  },
  {
   "cell_type": "code",
   "execution_count": 23,
   "id": "a52dd7a8",
   "metadata": {},
   "outputs": [
    {
     "name": "stdout",
     "output_type": "stream",
     "text": [
      "130.35\n"
     ]
    }
   ],
   "source": [
    "x = june_summary[\"Total Charged\"].sum()\n",
    "print(x)"
   ]
  },
  {
   "cell_type": "code",
   "execution_count": 24,
   "id": "933cf2d3",
   "metadata": {},
   "outputs": [
    {
     "name": "stdout",
     "output_type": "stream",
     "text": [
      "21.724999999999998\n"
     ]
    }
   ],
   "source": [
    "x = june_summary[\"Total Charged\"].mean()\n",
    "print(x)"
   ]
  },
  {
   "cell_type": "code",
   "execution_count": 25,
   "id": "255b0c43",
   "metadata": {},
   "outputs": [
    {
     "name": "stdout",
     "output_type": "stream",
     "text": [
      "   Order Date  Total Charged\n",
      "34   07/03/19          11.93\n",
      "35   07/03/19          16.28\n",
      "36   07/03/19          26.47\n",
      "37   07/03/19           5.47\n",
      "38   07/03/19           9.42\n",
      "39   07/06/19          12.99\n",
      "40   07/06/19         107.42\n",
      "41   07/06/19          69.97\n",
      "42   07/06/19          45.99\n",
      "43   07/06/19         210.99\n",
      "44   07/07/19          41.97\n",
      "45   07/09/19          16.46\n",
      "46   07/17/19          38.50\n",
      "47   07/18/19          15.95\n",
      "48   07/18/19         102.97\n",
      "49   07/18/19          13.48\n",
      "50   07/18/19          13.48\n",
      "51   07/21/19           6.85\n",
      "52   07/21/19           5.76\n",
      "53   07/23/19          45.29\n",
      "54   07/30/19          34.99\n",
      "55   07/30/19           6.30\n",
      "56   07/30/19           1.04\n",
      "57   07/31/19          35.99\n",
      "58   07/31/19          58.17\n"
     ]
    }
   ],
   "source": [
    "import pandas as pd\n",
    "df = pd.read_csv('amazon-orders.csv')\n",
    "july_summary = df.loc[34:58, [\"Order Date\", \"Total Charged\"]]\n",
    "print(july_summary)"
   ]
  },
  {
   "cell_type": "code",
   "execution_count": 26,
   "id": "2051763d",
   "metadata": {},
   "outputs": [
    {
     "name": "stdout",
     "output_type": "stream",
     "text": [
      "954.13\n"
     ]
    }
   ],
   "source": [
    "x = july_summary[\"Total Charged\"].sum()\n",
    "print(x)"
   ]
  },
  {
   "cell_type": "code",
   "execution_count": 27,
   "id": "29bdbad8",
   "metadata": {},
   "outputs": [
    {
     "name": "stdout",
     "output_type": "stream",
     "text": [
      "38.165200000000006\n"
     ]
    }
   ],
   "source": [
    "x = july_summary[\"Total Charged\"].mean()\n",
    "print(x)"
   ]
  },
  {
   "cell_type": "code",
   "execution_count": 28,
   "id": "ab00d6f5",
   "metadata": {},
   "outputs": [
    {
     "data": {
      "image/png": "[encoded data removed]",
      "text/plain": [
       "<Figure size 432x288 with 1 Axes>"
      ]
     },
     "metadata": {
      "needs_background": "light"
     },
     "output_type": "display_data"
    }
   ],
   "source": [
    "import matplotlib.pyplot as plt\n",
    "import pandas as pd\n",
    "\n",
    "df = pd.read_csv('amazon-orders.csv')\n",
    "june_summary = df.loc[28:33, [\"Order Date\", \"Total Charged\"]]\n",
    "\n",
    "x = june_summary[\"Order Date\"]\n",
    "y = june_summary[\"Total Charged\"]\n",
    "\n",
    "plt.bar(x,y)\n",
    "plt.title(\"Dollars Spent on Amazon in June\")\n",
    "plt.xlabel(\"Order Date\")\n",
    "plt.ylabel(\"Total Charged\")\n",
    "plt.show()"
   ]
  },
  {
   "cell_type": "code",
   "execution_count": 29,
   "id": "99e521aa",
   "metadata": {},
   "outputs": [
    {
     "data": {
      "image/png": "[encoded data removed]",
      "text/plain": [
       "<Figure size 432x288 with 1 Axes>"
      ]
     },
     "metadata": {},
     "output_type": "display_data"
    }
   ],
   "source": [
    "import matplotlib.pyplot as plt\n",
    "import numpy as np\n",
    "\n",
    "y = np.array([399.17, 294.08, 130.35, 954.13])\n",
    "mylabels = [\"April\", \"May\", \"June\", \"July\"]\n",
    "\n",
    "plt.pie(y, labels = mylabels)\n",
    "plt.title(\"Money Spent on Amazon Each Month\")\n",
    "plt.legend(title = \"month\", bbox_to_anchor = (1.05, 1.0), loc = 'upper left')\n",
    "plt.show()"
   ]
  },
  {
   "cell_type": "code",
   "execution_count": null,
   "id": "31d0575a",
   "metadata": {},
   "outputs": [],
   "source": []
  }
 ],
 "metadata": {
  "kernelspec": {
   "display_name": "Python 3 (ipykernel)",
   "language": "python",
   "name": "python3"
  },
  "language_info": {
   "codemirror_mode": {
    "name": "ipython",
    "version": 3
   },
   "file_extension": ".py",
   "mimetype": "text/x-python",
   "name": "python",
   "nbconvert_exporter": "python",
   "pygments_lexer": "ipython3",
   "version": "3.9.12"
  }
 },
 "nbformat": 4,
 "nbformat_minor": 5
}
