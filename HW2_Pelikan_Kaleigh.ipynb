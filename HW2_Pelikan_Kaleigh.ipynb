{
  "nbformat": 4,
  "nbformat_minor": 0,
  "metadata": {
    "colab": {
      "provenance": [],
      "authorship_tag": "ABX9TyNF2gaIK4XR9T86+MRQm3BM",
      "include_colab_link": true
    },
    "kernelspec": {
      "name": "python3",
      "display_name": "Python 3"
    },
    "language_info": {
      "name": "python"
    }
  },
  "cells": [
    {
      "cell_type": "markdown",
      "metadata": {
        "id": "view-in-github",
        "colab_type": "text"
      },
      "source": [
        "<a href=\"https://colab.research.google.com/github/kaleighpelikan/STAT-1129/blob/main/HW2_Pelikan_Kaleigh.ipynb\" target=\"_parent\"><img src=\"https://colab.research.google.com/assets/colab-badge.svg\" alt=\"Open In Colab\"/></a>"
      ]
    },
    {
      "cell_type": "markdown",
      "source": [
        "HW 2 Question 1"
      ],
      "metadata": {
        "id": "YZKDusVAZ8ji"
      }
    },
    {
      "cell_type": "code",
      "source": [
        "n = 0\n",
        "while n < 10:\n",
        "  print(n)\n",
        "  n += 1\n",
        "  if n == 5:\n",
        "    break\n",
        " \n"
      ],
      "metadata": {
        "colab": {
          "base_uri": "https://localhost:8080/"
        },
        "id": "wfxd0o2tUZ0_",
        "outputId": "4863e076-a9c8-4e2f-c488-7cfc77360d57"
      },
      "execution_count": 15,
      "outputs": [
        {
          "output_type": "stream",
          "name": "stdout",
          "text": [
            "0\n",
            "1\n",
            "2\n",
            "3\n",
            "4\n"
          ]
        }
      ]
    },
    {
      "cell_type": "markdown",
      "source": [
        "HW 2 Question 2"
      ],
      "metadata": {
        "id": "-ZMCthzaaDiZ"
      }
    },
    {
      "cell_type": "code",
      "source": [
        "n = 0 \n",
        "while n < 5:\n",
        "  print(n)\n",
        "  n += 1\n",
        "else: \n",
        "  print(\"5 is not less than 5\")\n"
      ],
      "metadata": {
        "colab": {
          "base_uri": "https://localhost:8080/"
        },
        "id": "UbTfoeAWXfBH",
        "outputId": "ef4a8c5b-3bdc-4965-934d-4a6853654f66"
      },
      "execution_count": 22,
      "outputs": [
        {
          "output_type": "stream",
          "name": "stdout",
          "text": [
            "0\n",
            "1\n",
            "2\n",
            "3\n",
            "4\n",
            "5 is not less than 5\n"
          ]
        }
      ]
    },
    {
      "cell_type": "markdown",
      "source": [
        "HW 2 Question 3"
      ],
      "metadata": {
        "id": "nPOyNmIRjfIn"
      }
    },
    {
      "cell_type": "code",
      "source": [
        "fruitList = [\"watermelon\", \"mango\", \"apple\", \"strawberry\"]\n",
        "for fruit in fruitList:\n",
        "  if fruit == \"apple\":\n",
        "    break\n",
        "  print(\"I like\", fruit)"
      ],
      "metadata": {
        "colab": {
          "base_uri": "https://localhost:8080/"
        },
        "id": "m8DOy01VZ7vd",
        "outputId": "dc80047f-54bf-46eb-f664-78337886a4e4"
      },
      "execution_count": 28,
      "outputs": [
        {
          "output_type": "stream",
          "name": "stdout",
          "text": [
            "I like watermelon\n",
            "I like mango\n"
          ]
        }
      ]
    },
    {
      "cell_type": "markdown",
      "source": [
        "HW 2 Question 4"
      ],
      "metadata": {
        "id": "ETYC4GKwnE4X"
      }
    },
    {
      "cell_type": "code",
      "source": [
        "n = 30\n",
        "sum = 0\n",
        "i = 1\n",
        "\n",
        "while i <= n:\n",
        "  sum = sum + i\n",
        "  i = i + 1\n",
        "\n",
        "print(\"The sum is\", sum)"
      ],
      "metadata": {
        "colab": {
          "base_uri": "https://localhost:8080/"
        },
        "id": "JPpK58pwli81",
        "outputId": "df4c12f2-32d7-4563-91c3-555839376566"
      },
      "execution_count": 30,
      "outputs": [
        {
          "output_type": "stream",
          "name": "stdout",
          "text": [
            "The sum is 465\n"
          ]
        }
      ]
    },
    {
      "cell_type": "markdown",
      "source": [
        "HW 2 Question 5"
      ],
      "metadata": {
        "id": "IPX3tSwrpcpw"
      }
    },
    {
      "cell_type": "code",
      "source": [
        "grade = 98\n",
        "if grade >= 90: \n",
        "  print(\"A\")\n",
        "elif grade >= 80:\n",
        "  print(\"B\")\n",
        "elif grade >= 70:\n",
        "  print(\"C\")\n",
        "elif grade >= 60:\n",
        "  print(\"D\")\n",
        "elif grade < 60:\n",
        "  print(\"F\")"
      ],
      "metadata": {
        "colab": {
          "base_uri": "https://localhost:8080/"
        },
        "id": "MNMCET9jnLUv",
        "outputId": "9572bf12-024c-42de-e6f1-4e206b084e9c"
      },
      "execution_count": 31,
      "outputs": [
        {
          "output_type": "stream",
          "name": "stdout",
          "text": [
            "A\n"
          ]
        }
      ]
    },
    {
      "cell_type": "markdown",
      "source": [
        "HW 2 Question 6.1"
      ],
      "metadata": {
        "id": "3xhUTRHYP26_"
      }
    },
    {
      "cell_type": "code",
      "source": [
        "marks = {\"Andy\" : 88, \"Amy\" : 66, \"James\" : 90, \"Jules\" : 55, \"Arthur\" : 77}\n",
        "for names, grades in marks.items():\n",
        "  print(names, grades)"
      ],
      "metadata": {
        "colab": {
          "base_uri": "https://localhost:8080/"
        },
        "id": "TJP88zMspim_",
        "outputId": "cbbe1758-87dc-40d5-fa6c-840f52f4087d"
      },
      "execution_count": 54,
      "outputs": [
        {
          "output_type": "stream",
          "name": "stdout",
          "text": [
            "Andy 88\n",
            "Amy 66\n",
            "James 90\n",
            "Jules 55\n",
            "Arthur 77\n"
          ]
        }
      ]
    },
    {
      "cell_type": "markdown",
      "source": [
        "HW 2 Question 6.2"
      ],
      "metadata": {
        "id": "eZ3WlFZ0P41k"
      }
    },
    {
      "cell_type": "code",
      "source": [
        "marks = {\"Andy\" : 88, \"Amy\" : 66, \"James\" : 90, \"Jules\" : 55, \"Arthur\" : 77}\n",
        "\n",
        "total = 0\n",
        "for grades in marks.values():\n",
        "  total += grades\n",
        "total = total / len(marks)\n",
        "print(\"The average grade is\", str(total))\n",
        "print(\"the highest grade is\", max(marks.values()))\n",
        "print(\"the lowest grade is\", min(marks.values()))"
      ],
      "metadata": {
        "colab": {
          "base_uri": "https://localhost:8080/"
        },
        "id": "qpFV1P9efAkK",
        "outputId": "282fff81-b4f7-4b13-d8a3-0f23c35c6333"
      },
      "execution_count": 68,
      "outputs": [
        {
          "output_type": "stream",
          "name": "stdout",
          "text": [
            "The average grade is 75.2\n",
            "the highest grade is 90\n",
            "the lowest grade is 55\n"
          ]
        }
      ]
    },
    {
      "cell_type": "markdown",
      "source": [
        "HW 2 Question 6.3"
      ],
      "metadata": {
        "id": "KJ2uYLjn8RZ5"
      }
    },
    {
      "cell_type": "code",
      "source": [
        "marks = {\"Andy\" : 88, \"Amy\" : 66, \"James\" : 90, \"Jules\" : 55, \"Arthur\" : 77}\n",
        "for name in marks:\n",
        "  if name == 'James':\n",
        "    break\n",
        "  print(name)\n",
        "\n",
        "  "
      ],
      "metadata": {
        "colab": {
          "base_uri": "https://localhost:8080/"
        },
        "id": "oP0b5MAt8TPV",
        "outputId": "6b7289b3-46a9-4c05-a7da-32e3abfffab4"
      },
      "execution_count": 22,
      "outputs": [
        {
          "output_type": "stream",
          "name": "stdout",
          "text": [
            "Andy\n",
            "Amy\n"
          ]
        }
      ]
    },
    {
      "cell_type": "markdown",
      "source": [
        "HW 2 Question 6.4"
      ],
      "metadata": {
        "id": "HB9MLUBLu2xO"
      }
    },
    {
      "cell_type": "code",
      "source": [
        "marks = {\"Andy\" :  88, \"Amy\" : 66, \"James\" : 90, \"Jules\" : 55, \"Arthur\" : 77}\n",
        "for name in marks:\n",
        "  if name == 'James':\n",
        "    continue\n",
        "  print(name)"
      ],
      "metadata": {
        "colab": {
          "base_uri": "https://localhost:8080/"
        },
        "id": "yHZ48ytju4Y2",
        "outputId": "c989939d-ea35-4211-c45c-6984e007c828"
      },
      "execution_count": 23,
      "outputs": [
        {
          "output_type": "stream",
          "name": "stdout",
          "text": [
            "Andy\n",
            "Amy\n",
            "Jules\n",
            "Arthur\n"
          ]
        }
      ]
    }
  ]
}