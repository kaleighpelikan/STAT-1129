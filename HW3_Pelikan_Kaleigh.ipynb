{
  "nbformat": 4,
  "nbformat_minor": 0,
  "metadata": {
    "colab": {
      "provenance": [],
      "authorship_tag": "ABX9TyMTPiKV/m0pl5/+wCYvHHKR",
      "include_colab_link": true
    },
    "kernelspec": {
      "name": "python3",
      "display_name": "Python 3"
    },
    "language_info": {
      "name": "python"
    }
  },
  "cells": [
    {
      "cell_type": "markdown",
      "metadata": {
        "id": "view-in-github",
        "colab_type": "text"
      },
      "source": [
        "<a href=\"https://colab.research.google.com/github/kaleighpelikan/STAT-1129/blob/main/HW3_Pelikan_Kaleigh.ipynb\" target=\"_parent\"><img src=\"https://colab.research.google.com/assets/colab-badge.svg\" alt=\"Open In Colab\"/></a>"
      ]
    },
    {
      "cell_type": "markdown",
      "source": [
        "HW 3 Question 1"
      ],
      "metadata": {
        "id": "rob4xzpJ3dHO"
      }
    },
    {
      "cell_type": "code",
      "source": [
        "def function(marks):\n",
        "  for key in marks:\n",
        "    print(key, marks[key])\n",
        "\n",
        "marks = {'Andy' : 88, 'Amy' : 66, 'James' : 90, 'Jules' : 55, 'Arthur' : 77}\n",
        "\n",
        "function(marks)\n"
      ],
      "metadata": {
        "colab": {
          "base_uri": "https://localhost:8080/"
        },
        "id": "Fu3zQgz93ewr",
        "outputId": "d1d553ae-a1bc-4424-b473-b1485dd3cd32"
      },
      "execution_count": 49,
      "outputs": [
        {
          "output_type": "stream",
          "name": "stdout",
          "text": [
            "Andy 88\n",
            "Amy 66\n",
            "James 90\n",
            "Jules 55\n",
            "Arthur 77\n"
          ]
        }
      ]
    },
    {
      "cell_type": "code",
      "source": [
        "def find_grade(fname):\n",
        "  if fname in marks:\n",
        "    return fname, marks[fname]\n",
        "  else:\n",
        "    return 'you cannot find student name'"
      ],
      "metadata": {
        "id": "aD5F35g1sR4j"
      },
      "execution_count": 132,
      "outputs": []
    },
    {
      "cell_type": "code",
      "source": [
        "find_grade('Andy')"
      ],
      "metadata": {
        "colab": {
          "base_uri": "https://localhost:8080/"
        },
        "id": "qRi5kKQnxPGQ",
        "outputId": "9f8249d8-52f9-41e5-cf35-72190a261022"
      },
      "execution_count": 133,
      "outputs": [
        {
          "output_type": "execute_result",
          "data": {
            "text/plain": [
              "('Andy', 88)"
            ]
          },
          "metadata": {},
          "execution_count": 133
        }
      ]
    },
    {
      "cell_type": "code",
      "source": [
        "find_grade('Amy')"
      ],
      "metadata": {
        "colab": {
          "base_uri": "https://localhost:8080/"
        },
        "id": "XrRTTgF1xQ7m",
        "outputId": "241888f8-d331-4edf-e60c-2c930495c544"
      },
      "execution_count": 134,
      "outputs": [
        {
          "output_type": "execute_result",
          "data": {
            "text/plain": [
              "('Amy', 66)"
            ]
          },
          "metadata": {},
          "execution_count": 134
        }
      ]
    },
    {
      "cell_type": "code",
      "source": [
        "find_grade('James')"
      ],
      "metadata": {
        "colab": {
          "base_uri": "https://localhost:8080/"
        },
        "id": "S0cSQ0hixS2Q",
        "outputId": "dc2671f6-3fdd-475c-d116-0fa02c76a865"
      },
      "execution_count": 135,
      "outputs": [
        {
          "output_type": "execute_result",
          "data": {
            "text/plain": [
              "('James', 90)"
            ]
          },
          "metadata": {},
          "execution_count": 135
        }
      ]
    },
    {
      "cell_type": "code",
      "source": [
        "find_grade('Jules')"
      ],
      "metadata": {
        "colab": {
          "base_uri": "https://localhost:8080/"
        },
        "id": "-uWpoCGyxVW6",
        "outputId": "87b4ba3f-1e9e-4a74-8b1c-e46d70254480"
      },
      "execution_count": 136,
      "outputs": [
        {
          "output_type": "execute_result",
          "data": {
            "text/plain": [
              "('Jules', 55)"
            ]
          },
          "metadata": {},
          "execution_count": 136
        }
      ]
    },
    {
      "cell_type": "code",
      "source": [
        "find_grade('Arthur')"
      ],
      "metadata": {
        "colab": {
          "base_uri": "https://localhost:8080/"
        },
        "id": "lNXYkmSCxXM4",
        "outputId": "f464b058-ed2c-4c43-edf1-6d3cd7ae24db"
      },
      "execution_count": 137,
      "outputs": [
        {
          "output_type": "execute_result",
          "data": {
            "text/plain": [
              "('Arthur', 77)"
            ]
          },
          "metadata": {},
          "execution_count": 137
        }
      ]
    },
    {
      "cell_type": "code",
      "source": [
        "find_grade('Jake')"
      ],
      "metadata": {
        "colab": {
          "base_uri": "https://localhost:8080/",
          "height": 35
        },
        "id": "dHGUyAB0xZea",
        "outputId": "cc38c0e8-80bd-4f4c-e49a-89a5d8662cb3"
      },
      "execution_count": 140,
      "outputs": [
        {
          "output_type": "execute_result",
          "data": {
            "text/plain": [
              "'you cannot find student name'"
            ],
            "application/vnd.google.colaboratory.intrinsic+json": {
              "type": "string"
            }
          },
          "metadata": {},
          "execution_count": 140
        }
      ]
    },
    {
      "cell_type": "code",
      "source": [
        "def average(*args):\n",
        "  return 'the average grade is', sum(args) / len(args)\n",
        "\n",
        "average(88, 66, 90, 55, 77)"
      ],
      "metadata": {
        "colab": {
          "base_uri": "https://localhost:8080/"
        },
        "id": "U_5wjieCsOpQ",
        "outputId": "c2e35f8e-9014-49dd-fd5e-cbb02b28b891"
      },
      "execution_count": 48,
      "outputs": [
        {
          "output_type": "execute_result",
          "data": {
            "text/plain": [
              "('the average grade is', 75.2)"
            ]
          },
          "metadata": {},
          "execution_count": 48
        }
      ]
    },
    {
      "cell_type": "markdown",
      "source": [
        "HW 3 Question 2"
      ],
      "metadata": {
        "id": "2yHY5POU9MRm"
      }
    },
    {
      "cell_type": "code",
      "source": [
        "def printout(num):\n",
        "  n = 0\n",
        "  while n < num:\n",
        "    print(n, n**2)\n",
        "    n += 1\n",
        "  else:\n",
        "    print(\"greater than\", n)\n",
        "  \n",
        "printout(8)\n"
      ],
      "metadata": {
        "colab": {
          "base_uri": "https://localhost:8080/"
        },
        "id": "1njyvI309dM6",
        "outputId": "c566cb17-930e-4194-d1e4-3a151e3c5275"
      },
      "execution_count": 28,
      "outputs": [
        {
          "output_type": "stream",
          "name": "stdout",
          "text": [
            "0 0\n",
            "1 1\n",
            "2 4\n",
            "3 9\n",
            "4 16\n",
            "5 25\n",
            "6 36\n",
            "7 49\n",
            "greater than 8\n"
          ]
        }
      ]
    },
    {
      "cell_type": "markdown",
      "source": [
        "HW 3 Question 3"
      ],
      "metadata": {
        "id": "5cO3kfGG-5Ji"
      }
    },
    {
      "cell_type": "code",
      "source": [
        "def sumfunction(num):\n",
        "  n = 1\n",
        "  sum = 0\n",
        "  while n <= num:\n",
        "    sum = sum + n\n",
        "    n = n + 1\n",
        "  print(sum)\n",
        "\n",
        "sumfunction(22)"
      ],
      "metadata": {
        "colab": {
          "base_uri": "https://localhost:8080/"
        },
        "id": "Nxf-gaDM-6es",
        "outputId": "de28e16f-dd2a-4b7d-d443-e8267c4125c5"
      },
      "execution_count": 29,
      "outputs": [
        {
          "output_type": "stream",
          "name": "stdout",
          "text": [
            "253\n"
          ]
        }
      ]
    },
    {
      "cell_type": "markdown",
      "source": [
        "HW 3 Question 4"
      ],
      "metadata": {
        "id": "ZuZZtgoS_vdP"
      }
    },
    {
      "cell_type": "code",
      "source": [
        "def range_sum(num):\n",
        "  sum = 0\n",
        "  for n in range(num):\n",
        "    sum = sum + n\n",
        "  print(sum)\n",
        "\n",
        "range_sum(22)"
      ],
      "metadata": {
        "colab": {
          "base_uri": "https://localhost:8080/"
        },
        "id": "3AuS0NiX_wy6",
        "outputId": "47b4dceb-a6bb-4b21-a4b0-08306747463c"
      },
      "execution_count": 30,
      "outputs": [
        {
          "output_type": "stream",
          "name": "stdout",
          "text": [
            "231\n"
          ]
        }
      ]
    },
    {
      "cell_type": "markdown",
      "source": [
        "HW 3 Question 5"
      ],
      "metadata": {
        "id": "-Br2QzxIAtcb"
      }
    },
    {
      "cell_type": "code",
      "source": [
        "def range_sum(num):\n",
        "  sum = 0\n",
        "  for n in range(num):\n",
        "    sum = sum + n\n",
        "  print(sum)\n",
        "range_sum(100)"
      ],
      "metadata": {
        "colab": {
          "base_uri": "https://localhost:8080/"
        },
        "id": "SQy2cx9ECOSg",
        "outputId": "cbf63ead-050e-4c79-8742-e6195f067318"
      },
      "execution_count": 47,
      "outputs": [
        {
          "output_type": "stream",
          "name": "stdout",
          "text": [
            "4950\n"
          ]
        }
      ]
    },
    {
      "cell_type": "code",
      "source": [
        "import statistics as stats\n",
        "values = range(1,100)\n",
        "stats.mean(values)"
      ],
      "metadata": {
        "colab": {
          "base_uri": "https://localhost:8080/"
        },
        "id": "0CpwQFL0CUSY",
        "outputId": "03592f30-4c32-4ba3-ed8d-f559bbb68635"
      },
      "execution_count": 48,
      "outputs": [
        {
          "output_type": "execute_result",
          "data": {
            "text/plain": [
              "50"
            ]
          },
          "metadata": {},
          "execution_count": 48
        }
      ]
    },
    {
      "cell_type": "code",
      "source": [
        "import statistics\n",
        "statistics.pstdev(range(1,100))\n",
        "import math\n",
        "math.sqrt(statistics.pvariance(range(1,100)))"
      ],
      "metadata": {
        "colab": {
          "base_uri": "https://localhost:8080/"
        },
        "id": "sEIXImWvAv8C",
        "outputId": "429f9785-48ba-468f-b6ce-476d73fca3e9"
      },
      "execution_count": 34,
      "outputs": [
        {
          "output_type": "execute_result",
          "data": {
            "text/plain": [
              "28.577380332470412"
            ]
          },
          "metadata": {},
          "execution_count": 34
        }
      ]
    },
    {
      "cell_type": "markdown",
      "source": [
        "HW 3 Question 6"
      ],
      "metadata": {
        "id": "_5d31MELDizl"
      }
    },
    {
      "cell_type": "code",
      "source": [
        "def minimal(value1, value2, value3, value4):\n",
        "  min_value = value1\n",
        "  if value2 < min_value:\n",
        "    min_value = value2\n",
        "  if value3 < min_value:\n",
        "    min_value = value3\n",
        "  if value4 < min_value:\n",
        "    min_value = value4\n",
        "  return min_value\n",
        "\n",
        "minimal(44,22,11,88)"
      ],
      "metadata": {
        "colab": {
          "base_uri": "https://localhost:8080/"
        },
        "id": "7K5cwuk7Dkd2",
        "outputId": "de40c58d-59ce-439d-b7bf-9ea3904e90e8"
      },
      "execution_count": 3,
      "outputs": [
        {
          "output_type": "execute_result",
          "data": {
            "text/plain": [
              "11"
            ]
          },
          "metadata": {},
          "execution_count": 3
        }
      ]
    },
    {
      "cell_type": "markdown",
      "source": [
        "HW 3 Question 7"
      ],
      "metadata": {
        "id": "jKEdm-Mqh8Nr"
      }
    },
    {
      "cell_type": "code",
      "source": [
        "str1 = \"I\"\n",
        "str2 = \"love\"\n",
        "str3 = \"watermelon\"\n",
        "\n",
        "concatenated_str = str1 + \" \" + str2 + \" \" + str3\n",
        "print(concatenated_str)"
      ],
      "metadata": {
        "colab": {
          "base_uri": "https://localhost:8080/"
        },
        "id": "UTMsJAHNrCxz",
        "outputId": "8d07b0ae-4908-4390-b850-f113033c4476"
      },
      "execution_count": 47,
      "outputs": [
        {
          "output_type": "stream",
          "name": "stdout",
          "text": [
            "I love watermelon\n"
          ]
        }
      ]
    }
  ]
}